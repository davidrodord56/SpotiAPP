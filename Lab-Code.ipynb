{
 "cells": [
  {
   "cell_type": "code",
   "execution_count": 1,
   "metadata": {
    "collapsed": true
   },
   "outputs": [],
   "source": [
    "import config\n",
    "import spotipy\n",
    "from spotipy.oauth2 import SpotifyClientCredentials"
   ]
  },
  {
   "cell_type": "code",
   "execution_count": 2,
   "outputs": [],
   "source": [
    "client_credentials_manager = SpotifyClientCredentials(client_id=config.client_id, client_secret=config.api_secret)\n",
    "sp = spotipy.Spotify(client_credentials_manager = client_credentials_manager)"
   ],
   "metadata": {
    "collapsed": false,
    "pycharm": {
     "name": "#%%\n"
    }
   }
  },
  {
   "cell_type": "code",
   "execution_count": 11,
   "outputs": [],
   "source": [
    "playlist_link = \"https://open.spotify.com/playlist/1ZcUPOHzmLOPceuT9OvSW4?si=29f7c8a5a12b4f13&nd=1\"\n",
    "playlist_URI = playlist_link.split(\"/\")[-1].split(\"?\")[0]\n",
    "track_uris = [x[\"track\"][\"uri\"] for x in sp.playlist_tracks(playlist_URI)[\"items\"]]"
   ],
   "metadata": {
    "collapsed": false,
    "pycharm": {
     "name": "#%%\n"
    }
   }
  },
  {
   "cell_type": "code",
   "execution_count": 12,
   "outputs": [
    {
     "name": "stdout",
     "output_type": "stream",
     "text": [
      "Un Sueño  /  Alex Gargolas / Gargolas 5: The Next Generation / 60\n",
      "Igual Que Ayer  /  R.K.M & Ken-Y / Masterpiece: Nuestra Obra Maestra / 65\n",
      "Es un Secreto  /  Plan B / House Of Pleasure / 77\n",
      "Salió El Sol  /  Don Omar / King Of Kings / 74\n",
      "Down (Remix)  /  R.K.M & Ken-Y / Masterpiece : Commemorative Edition / 53\n",
      "Me Estas Tentando  /  Wisin & Yandel / La Revolucion (Deluxe) / 63\n",
      "Mi Cama Huele a Ti (feat. Zion & Lennox)  /  Tito \"El Bambino\" / El Patrón (La Victoria) / 68\n",
      "Sexy Movimiento  /  Wisin & Yandel / Wisin Vs Yandel \"Los Extraterrestres\" / 68\n",
      "Na De Na  /  Angel Y Khriz / Showtime / 70\n",
      "Abusadora  /  Wisin & Yandel / La Revolucion (Deluxe) / 66\n",
      "Ven Bailalo - Reggaeton Mix  /  Angel Y Khriz / Ven Bailalo (Reggaeton Mix) / 74\n",
      "Sexy Robotica  /  Don Omar / iDon / 56\n",
      "Dime Si Te Vas con Él  /  Nigga / La Evolución Romantic Style / 58\n",
      "Dile  /  Don Omar / The Last Don / 77\n",
      "La Botella  /  Mach & Daddy / Desde Abajo / 67\n",
      "Ella Me Levanto  /  Daddy Yankee / El Cartel: The Big Boss / 72\n",
      "Llamado de Emergencia  /  Daddy Yankee / Talento de Barrio / 72\n",
      "Virtual Diva  /  Don Omar / iDon / 67\n",
      "Noche De Sexo  /  Wisin & Yandel / Pa'l Mundo / 72\n",
      "Noche De Entierro  /  Daddy Yankee / Mas Flow - Los Benjamins / 70\n",
      "Rakata  /  Wisin & Yandel / Reggaeton de los 00's / 70\n",
      "Ella y Yo (feat. Don Omar)  /  Aventura / Todavía Me Amas: Lo Mejor de Aventura / 57\n",
      "Yonaguni  /  Bad Bunny / Yonaguni / 88\n"
     ]
    }
   ],
   "source": [
    "for track in sp.playlist_tracks(playlist_URI)[\"items\"]:\n",
    "    #URI\n",
    "    track_uri = track[\"track\"][\"uri\"]\n",
    "\n",
    "    #Track name\n",
    "    track_name = track[\"track\"][\"name\"]\n",
    "\n",
    "    #Main Artist\n",
    "    artist_uri = track[\"track\"][\"artists\"][0][\"uri\"]\n",
    "    artist_info = sp.artist(artist_uri)\n",
    "\n",
    "    #Name, popularity, genre\n",
    "    artist_name = track[\"track\"][\"artists\"][0][\"name\"]\n",
    "    artist_pop = artist_info[\"popularity\"]\n",
    "    artist_genres = artist_info[\"genres\"]\n",
    "\n",
    "    #Album\n",
    "    album = track[\"track\"][\"album\"][\"name\"]\n",
    "\n",
    "    #Popularity of the track\n",
    "    track_pop = track[\"track\"][\"popularity\"]\n",
    "\n",
    "    print(track_name, \" / \", artist_name,\"/\", album, \"/\", track_pop)"
   ],
   "metadata": {
    "collapsed": false,
    "pycharm": {
     "name": "#%%\n"
    }
   }
  },
  {
   "cell_type": "code",
   "execution_count": 16,
   "outputs": [
    {
     "name": "stdout",
     "output_type": "stream",
     "text": [
      "[{'danceability': 0.788, 'energy': 0.735, 'key': 10, 'loudness': -7.171, 'mode': 0, 'speechiness': 0.0433, 'acousticness': 0.0225, 'instrumentalness': 0, 'liveness': 0.0427, 'valence': 0.399, 'tempo': 94.004, 'type': 'audio_features', 'id': '2WHctubxf8LzrGr62cLz3d', 'uri': 'spotify:track:2WHctubxf8LzrGr62cLz3d', 'track_href': 'https://api.spotify.com/v1/tracks/2WHctubxf8LzrGr62cLz3d', 'analysis_url': 'https://api.spotify.com/v1/audio-analysis/2WHctubxf8LzrGr62cLz3d', 'duration_ms': 232560, 'time_signature': 4}]\n"
     ]
    }
   ],
   "source": [
    "print(sp.audio_features(track_uris[1]))"
   ],
   "metadata": {
    "collapsed": false,
    "pycharm": {
     "name": "#%%\n"
    }
   }
  },
  {
   "cell_type": "code",
   "execution_count": null,
   "outputs": [],
   "source": [],
   "metadata": {
    "collapsed": false,
    "pycharm": {
     "name": "#%%\n"
    }
   }
  }
 ],
 "metadata": {
  "kernelspec": {
   "display_name": "Python 3",
   "language": "python",
   "name": "python3"
  },
  "language_info": {
   "codemirror_mode": {
    "name": "ipython",
    "version": 2
   },
   "file_extension": ".py",
   "mimetype": "text/x-python",
   "name": "python",
   "nbconvert_exporter": "python",
   "pygments_lexer": "ipython2",
   "version": "2.7.6"
  }
 },
 "nbformat": 4,
 "nbformat_minor": 0
}